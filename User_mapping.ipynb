{
 "cells": [
  {
   "cell_type": "code",
   "execution_count": 1,
   "metadata": {
    "collapsed": true
   },
   "outputs": [],
   "source": [
    "import numpy as np # linear algebra\n",
    "import pandas as pd # data processing, CSV file I/O (e.g. pd.read_csv)"
   ]
  },
  {
   "cell_type": "code",
   "execution_count": 2,
   "metadata": {
    "collapsed": true
   },
   "outputs": [],
   "source": [
    "tags = pd.read_csv(\"Tags_Filtered.csv\", encoding='latin1')\n",
    "#answers=pd.read_csv(\"Answers_Filtered.csv\", encoding=\"latin1\")\n",
    "questions=pd.read_csv(\"Questions_Filtered.csv\",encoding=\"latin1\")\n",
    "#print(type(tags[tags.Id  == ]))\n"
   ]
  },
  {
   "cell_type": "code",
   "execution_count": 3,
   "metadata": {},
   "outputs": [
    {
     "name": "stdout",
     "output_type": "stream",
     "text": [
      "645363\n"
     ]
    }
   ],
   "source": [
    "user_dict=dict()\n",
    "tag_score_dict=dict()\n",
    "tag_count_dict=dict()\n",
    "\n",
    "for index, row in questions.iterrows():\n",
    "    if row['OwnerUserId'] not in user_dict:\n",
    "        user_dict[row['OwnerUserId']]=[tag_score_dict,tag_count_dict]\n",
    "        temp_rows=tags[tags.Id == row['Id']]\n",
    "        \n",
    "        for index1,rows1 in temp_rows.iterrows():\n",
    "            if rows1['Tag'] not in tag_count_dict:\n",
    "                #print(type(rows1))\n",
    "                user_dict[row['OwnerUserId']][0][rows1['Tag']]=1\n",
    "                user_dict[row['OwnerUserId']][1][rows1['Tag']]=row['Score']\n",
    "            else:\n",
    "                tag_count_dict[rows1['Tag']]+=1\n",
    "                tag_score_dict[rows1['Tag']]=tag_score_dict[rows1['Tag']]+row['Score']\n",
    "    else:\n",
    "        temp_rows=tags[tags.Id == row['Id']]\n",
    "        for index1,rows1 in temp_rows.iterrows():\n",
    "            if rows1['Tag'] not in tag_count_dict:\n",
    "                    user_dict[row['OwnerUserId']][0][rows1['Tag']]=1\n",
    "                    user_dict[row['OwnerUserId']][1][rows1['Tag']]=row['Score']\n",
    "            else:\n",
    "                tag_count_dict[rows1['Tag']]+=1\n",
    "                tag_score_dict[rows1['Tag']]=tag_score_dict[rows1['Tag']]+row['Score']\n",
    "\n",
    "\n",
    "print(len(user_dict))\n",
    "    "
   ]
  },
  {
   "cell_type": "code",
   "execution_count": null,
   "metadata": {
    "collapsed": true
   },
   "outputs": [],
   "source": []
  }
 ],
 "metadata": {
  "kernelspec": {
   "display_name": "Python 3",
   "language": "python",
   "name": "python3"
  },
  "language_info": {
   "codemirror_mode": {
    "name": "ipython",
    "version": 3
   },
   "file_extension": ".py",
   "mimetype": "text/x-python",
   "name": "python",
   "nbconvert_exporter": "python",
   "pygments_lexer": "ipython3",
   "version": "3.6.3"
  }
 },
 "nbformat": 4,
 "nbformat_minor": 2
}
