{
 "cells": [
  {
   "cell_type": "code",
   "execution_count": 1,
   "metadata": {
    "_cell_guid": "7603b3b0-32bb-4917-ab4f-1107759f3ea9",
    "_uuid": "0b869c8945594ba2386a462b8c4fa94d7e4170e1"
   },
   "outputs": [],
   "source": [
    "# This Python 3 environment comes with many helpful analytics libraries installed\n",
    "# It is defined by the kaggle/python docker image: https://github.com/kaggle/docker-python\n",
    "# For example, here's several helpful packages to load in \n",
    "\n",
    "import numpy as np # linear algebra\n",
    "import pandas as pd # data processing, CSV file I/O (e.g. pd.read_csv)\n",
    "import re\n",
    "import collections\n",
    "# Input data files are available in the \"../input/\" directory.\n",
    "# For example, running this (by clicking run or pressing Shift+Enter) will list the files in the input directory\n",
    "\n",
    "#from subprocess import check_output\n",
    "#print(check_output([\"ls\", \"../input\"]).decode(\"utf8\"))\n",
    "\n",
    "# Any results you write to the current directory are saved as output."
   ]
  },
  {
   "cell_type": "code",
   "execution_count": 2,
   "metadata": {
    "_cell_guid": "3e0b4b2b-7b59-4d5a-b9d2-04686a859261",
    "_uuid": "51d0e74778da44099c707cd9ab1c8aa8c87d3b1c"
   },
   "outputs": [
    {
     "name": "stdout",
     "output_type": "stream",
     "text": [
      "   Id             Tag\n",
      "0  80            flex\n",
      "1  80  actionscript-3\n",
      "2  80             air\n",
      "3  90             svn\n",
      "4  90     tortoisesvn\n"
     ]
    }
   ],
   "source": [
    "tags = pd.read_csv(\"Tags.csv\", encoding='latin1')\n",
    "print(tags[:5])"
   ]
  },
  {
   "cell_type": "code",
   "execution_count": 3,
   "metadata": {
    "_cell_guid": "1cc75a7f-3208-4240-a284-262113169c8e",
    "_uuid": "3320f380b76b95770cde93507582b1c8cec8625c"
   },
   "outputs": [
    {
     "name": "stdout",
     "output_type": "stream",
     "text": [
      "[('javascript', 124155), ('java', 115212), ('c#', 101186), ('php', 98808), ('android', 90659), ('jquery', 78542), ('python', 64601), ('html', 58976), ('c++', 47591), ('ios', 47009), ('mysql', 42464), ('css', 42308), ('sql', 35782), ('asp.net', 29970), ('objective-c', 26922), ('ruby-on-rails', 25789), ('.net', 24059), ('c', 23238), ('iphone', 21539), ('angularjs', 20345), ('arrays', 19799), ('sql-server', 18160), ('json', 17669), ('ruby', 17013), ('r', 15701), ('ajax', 15629), ('regex', 15349), ('xml', 14763), ('node.js', 14525), ('asp.net-mvc', 14284), ('linux', 13395), ('django', 12818), ('wpf', 12365), ('database', 11860), ('swift', 11832), ('xcode', 10633), ('string', 10427), ('excel', 10384), ('vb.net', 10286), ('windows', 10142), ('spring', 9935), ('wordpress', 9913), ('eclipse', 9895), ('html5', 9564), ('multithreading', 9006), ('oracle', 7645), ('git', 7626), ('facebook', 7598), ('forms', 7588), ('bash', 7484), ('image', 7441), ('osx', 7243), ('twitter-bootstrap', 7161), ('mongodb', 7084), ('winforms', 6944), ('vba', 6892), ('algorithm', 6837), ('apache', 6658), ('performance', 6584), ('matlab', 6495), ('swing', 6467), ('visual-studio', 6149), ('entity-framework', 6074), ('linq', 6005), ('postgresql', 5941), ('hibernate', 5874), ('list', 5769), ('python-2.7', 5763), ('css3', 5752), ('scala', 5676), ('ruby-on-rails-3', 5528), ('qt', 5384), ('.htaccess', 5338), ('web-services', 5317), ('function', 5253), ('sqlite', 5234), ('perl', 5206), ('excel-vba', 5203), ('shell', 4991), ('rest', 4916), ('api', 4903), ('uitableview', 4900), ('sql-server-2008', 4900), ('laravel', 4896), ('codeigniter', 4892), ('file', 4876), ('cordova', 4854), ('google-maps', 4775), ('maven', 4675), ('visual-studio-2010', 4642), ('validation', 4515), ('class', 4485), ('wcf', 4480), ('unit-testing', 4437), ('sockets', 4421), ('google-chrome', 4336), ('jsp', 4312), ('symfony2', 4228), ('python-3.x', 4222), ('tsql', 4158), ('xaml', 4155), ('loops', 4121), ('sorting', 4080), ('email', 4070), ('android-layout', 4053), ('actionscript-3', 4039), ('date', 4021), ('security', 3896), ('powershell', 3854), ('oop', 3839), ('asp.net-mvc-3', 3838), ('csv', 3827), ('http', 3809), ('listview', 3804), ('asp.net-mvc-4', 3778), ('spring-mvc', 3776), ('delphi', 3749), ('parsing', 3737), ('user-interface', 3733), ('google-app-engine', 3663), ('magento', 3619), ('cocoa', 3559), ('flash', 3523), ('jquery-ui', 3521), ('azure', 3489), ('internet-explorer', 3486), ('ipad', 3463), ('cocoa-touch', 3441), ('datetime', 3391), ('session', 3374), ('selenium', 3373), ('opencv', 3366), ('debugging', 3347), ('batch-file', 3290), ('ruby-on-rails-4', 3279), ('templates', 3265), ('variables', 3261), ('pointers', 3237), ('c++11', 3205), ('amazon-web-services', 3190), ('object', 3186), ('unix', 3155), ('android-studio', 3154), ('ubuntu', 3129), ('ms-access', 3100), ('hadoop', 3099), ('tomcat', 3061), ('haskell', 3043), ('pandas', 3011), ('jsf', 2969), ('pdf', 2953), ('numpy', 2935), ('firefox', 2928), ('android-fragments', 2921), ('url', 2905), ('facebook-graph-api', 2881), ('authentication', 2875), ('generics', 2853), ('animation', 2852), ('dictionary', 2825), ('redirect', 2794), ('opengl', 2778), ('jpa', 2768), ('if-statement', 2765), ('for-loop', 2753), ('winapi', 2742), ('cakephp', 2733), ('events', 2729), ('express', 2706), ('mod-rewrite', 2687), ('ssl', 2686), ('silverlight', 2678), ('servlets', 2656), ('exception', 2650), ('java-ee', 2634), ('inheritance', 2620), ('curl', 2606), ('xslt', 2591), ('math', 2579), ('button', 2567), ('dom', 2565), ('reactjs', 2561), ('caching', 2560), ('grails', 2558), ('select', 2551), ('post', 2529), ('search', 2479), ('testing', 2471), ('iis', 2466), ('join', 2463), ('flex', 2430), ('meteor', 2423), ('gcc', 2422), ('audio', 2409), ('table', 2408), ('video', 2396), ('c#-4.0', 2384), ('memory', 2361), ('svn', 2361), ('android-intent', 2352), ('canvas', 2347), ('image-processing', 2345), ('stored-procedures', 2342), ('asynchronous', 2341), ('networking', 2336), ('razor', 2303), ('iframe', 2301), ('assembly', 2300), ('logging', 2279), ('design-patterns', 2278), ('jquery-mobile', 2273), ('d3.js', 2272), ('recursion', 2265), ('android-activity', 2260), ('angular2', 2259), ('visual-c++', 2257), ('cookies', 2251), ('visual-studio-2012', 2250), ('gridview', 2242), ('activerecord', 2232), ('core-data', 2175), ('xpath', 2172), ('heroku', 2165), ('sharepoint', 2163), ('github', 2159), ('encryption', 2155), ('elasticsearch', 2131), ('jdbc', 2124), ('optimization', 2124), ('matrix', 2122), ('mobile', 2122), ('nginx', 2110), ('svg', 2107), ('extjs', 2087), ('model-view-controller', 2082), ('serialization', 2071), ('memory-management', 2044), ('twitter', 2041), ('zend-framework', 2041), ('boost', 2037), ('ember.js', 2033), ('checkbox', 2030), ('soap', 2030), ('layout', 2027), ('windows-phone-7', 2026), ('backbone.js', 2004), ('vim', 2004), ('unity3d', 2000), ('google-maps-api-3', 1998), ('matplotlib', 1982), ('apache-spark', 1976), ('asp.net-web-api', 1973), ('arraylist', 1964), ('web', 1958), ('multidimensional-array', 1958), ('file-upload', 1951), ('gwt', 1943), ('text', 1922), ('browser', 1919), ('random', 1904), ('intellij-idea', 1895), ('methods', 1890), ('netbeans', 1885), ('vector', 1877), ('windows-phone-8', 1876), ('mysqli', 1861), ('parse.com', 1860), ('go', 1858), ('jenkins', 1842), ('input', 1840), ('gradle', 1835), ('dynamic', 1834), ('plugins', 1828), ('sql-server-2005', 1824), ('selenium-webdriver', 1818), ('mvvm', 1815), ('dll', 1813), ('nhibernate', 1806), ('data-structures', 1783), ('design', 1782), ('web-applications', 1765), ('typescript', 1763), ('visual-studio-2013', 1759), ('database-design', 1749), ('drupal', 1722), ('indexing', 1721), ('xamarin', 1715), ('reflection', 1714), ('file-io', 1703), ('unicode', 1684), ('data-binding', 1664), ('twitter-bootstrap-3', 1658), ('awk', 1647), ('time', 1645), ('knockout.js', 1634), ('docker', 1622), ('javafx', 1622), ('pdo', 1617), ('paypal', 1614), ('reporting-services', 1612), ('replace', 1600), ('hash', 1600), ('service', 1597), ('login', 1584), ('plot', 1575), ('amazon-s3', 1571), ('jsf-2', 1562), ('dataframe', 1558), ('encoding', 1558), ('visual-studio-2008', 1558), ('graph', 1557), ('groovy', 1555), ('collections', 1534), ('drop-down-menu', 1532), ('ssh', 1532), ('django-models', 1523), ('sed', 1523), ('view', 1520), ('datagridview', 1519), ('struct', 1517), ('types', 1514), ('makefile', 1511), ('printing', 1508), ('ionic-framework', 1507), ('uiview', 1504), ('command-line', 1499), ('yii', 1493), ('deployment', 1485), ('amazon-ec2', 1482), ('primefaces', 1480), ('tcp', 1472), ('google-chrome-extension', 1469), ('utf-8', 1469), ('firebase', 1468), ('ios7', 1467), ('android-listview', 1458), ('memory-leaks', 1456), ('solr', 1448), ('charts', 1445), ('graphics', 1440), ('emacs', 1440), ('junit', 1437), ('laravel-4', 1432), ('oauth', 1429), ('webview', 1428), ('highcharts', 1424), ('foreach', 1424), ('laravel-5', 1423), ('syntax', 1423), ('vbscript', 1418), ('angularjs-directive', 1411), ('flask', 1407), ('rspec', 1403), ('ggplot2', 1402), ('plsql', 1401), ('spring-security', 1400), ('tfs', 1400), ('dependency-injection', 1396), ('google-apps-script', 1394), ('joomla', 1390), ('scroll', 1375), ('import', 1356), ('hyperlink', 1354), ('filter', 1351), ('fonts', 1345), ('linq-to-sql', 1341), ('ant', 1341), ('visual-studio-2015', 1337), ('playframework', 1336), ('javascript-events', 1330), ('spring-boot', 1322), ('timer', 1319), ('lambda', 1316), ('combobox', 1311), ('jar', 1309), ('https', 1306), ('error-handling', 1300), ('mongoose', 1289), ('orm', 1287), ('uiviewcontroller', 1284), ('casting', 1284), ('cmd', 1283), ('version-control', 1283), ('constructor', 1276), ('parameters', 1266), ('datatable', 1265), ('tkinter', 1262), ('concurrency', 1262), ('colors', 1257), ('bitmap', 1255), ('jquery-plugins', 1253), ('google-analytics', 1252), ('binding', 1251), ('build', 1249), ('enums', 1249), ('clojure', 1245), ('opengl-es', 1245), ('oracle11g', 1238), ('ssis', 1233), ('interface', 1229), ('machine-learning', 1228), ('doctrine2', 1223), ('module', 1223), ('kendo-ui', 1220), ('properties', 1219), ('responsive-design', 1218), ('while-loop', 1216), ('process', 1211), ('ios5', 1204), ('android-asynctask', 1203)]\n"
     ]
    }
   ],
   "source": [
    "distinct_tags = collections.Counter(tags['Tag'])\n",
    "min_threshold = 1200\n",
    "filtered_tags = {x : distinct_tags[x] for x in distinct_tags if distinct_tags[x] >= min_threshold }\n",
    "import operator\n",
    "sorted_x = sorted(filtered_tags.items(), key=operator.itemgetter(1))\n",
    "sorted_x = sorted_x[::-1]\n",
    "print(sorted_x)"
   ]
  },
  {
   "cell_type": "code",
   "execution_count": 4,
   "metadata": {
    "_uuid": "c6087571f256bc68d20553f14081e3339746513d"
   },
   "outputs": [
    {
     "name": "stdout",
     "output_type": "stream",
     "text": [
      "hi\n"
     ]
    }
   ],
   "source": [
    "print(\"hi\")\n",
    "interested_tags = len(sorted_x)\n",
    "used_tags= set([])\n",
    "for i in range(0, interested_tags):\n",
    "    used_tags.add(sorted_x[i][0])"
   ]
  },
  {
   "cell_type": "code",
   "execution_count": null,
   "metadata": {
    "_uuid": "287f0f44787be94edddf5b1bed92c8c00eb37963"
   },
   "outputs": [
    {
     "name": "stdout",
     "output_type": "stream",
     "text": [
      "Hi\n"
     ]
    }
   ],
   "source": [
    "print(\"Hi\")\n",
    "iter_questions = pd.read_csv(\"Questions.csv\", encoding='latin1')\n",
    "iter_answers = pd.read_csv(\"Answers.csv\", encoding='latin1')\n",
    "print(iter_questions[:5])"
   ]
  },
  {
   "cell_type": "code",
   "execution_count": null,
   "metadata": {
    "_cell_guid": "80f3755c-22bb-4760-a04d-9469d617f76a",
    "_uuid": "07a6d7fc718e4ce707c4ec96956089a9577dc75a",
    "collapsed": true
   },
   "outputs": [],
   "source": [
    "print(\"Hi\")\n",
    "for index, row in iter_questions.iterrows():\n",
    "        iter_questions.set_value(index, 'Body', re.sub('<[^<]+?>', '', row['Body']))"
   ]
  },
  {
   "cell_type": "code",
   "execution_count": null,
   "metadata": {
    "_cell_guid": "e680353a-cc73-42ef-9e34-2c889ac680b0",
    "_uuid": "7d4fe8e2d64afee26ccd94ecdb4dfa10a4282e89",
    "collapsed": true
   },
   "outputs": [],
   "source": [
    "print(iter_questions.iloc[0]['Body'])"
   ]
  },
  {
   "cell_type": "code",
   "execution_count": null,
   "metadata": {
    "collapsed": true
   },
   "outputs": [],
   "source": []
  }
 ],
 "metadata": {
  "kernelspec": {
   "display_name": "Python 3",
   "language": "python",
   "name": "python3"
  },
  "language_info": {
   "codemirror_mode": {
    "name": "ipython",
    "version": 3
   },
   "file_extension": ".py",
   "mimetype": "text/x-python",
   "name": "python",
   "nbconvert_exporter": "python",
   "pygments_lexer": "ipython3",
   "version": "3.6.3"
  }
 },
 "nbformat": 4,
 "nbformat_minor": 1
}
